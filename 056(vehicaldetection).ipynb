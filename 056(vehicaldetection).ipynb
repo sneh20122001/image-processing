{
 "cells": [
  {
   "cell_type": "code",
   "execution_count": 1,
   "metadata": {},
   "outputs": [],
   "source": [
    "import cv2\n",
    "import numpy as np"
   ]
  },
  {
   "cell_type": "code",
   "execution_count": 6,
   "metadata": {},
   "outputs": [],
   "source": [
    "cap = cv2.VideoCapture('E03.avi')\n",
    "\n",
    "while True:\n",
    "    r,f = cap.read()\n",
    "    if r == True:\n",
    "        gry = cv2.cvtColor(f,cv2.COLOR_BGR2GRAY)\n",
    "        car = cv2.CascadeClassifier('cars.xml')\n",
    "\n",
    "        cars = car.detectMultiScale(gry,1.2,2)\n",
    "        for (x,y,w,h) in cars:\n",
    "            cv2.rectangle(f,(x,y),(x+w,y+h),(0,0,255),3)\n",
    "\n",
    "\n",
    "        cv2.imshow('video',f)\n",
    "        if cv2.waitKey(25) & 0xff == ord('q'):\n",
    "            break\n",
    "    else:\n",
    "        break\n",
    "\n",
    "cap.release()\n",
    "cv2.destroyAllWindows()"
   ]
  },
  {
   "cell_type": "code",
   "execution_count": 5,
   "metadata": {},
   "outputs": [],
   "source": [
    "img = cv2.imread('D06.jpg')\n",
    "gry = cv2.cvtColor(img,cv2.COLOR_BGR2GRAY)\n",
    "car = cv2.CascadeClassifier('cars.xml')\n",
    "cars = car.detectMultiScale(gry,1.2,2)\n",
    "\n",
    "for (x,y,w,h) in cars:\n",
    "            cv2.rectangle(img,(x,y),(x+w,y+h),(0,0,255),3)\n",
    "\n",
    "\n",
    "cv2.imshow('img',img)\n",
    "cv2.waitKey(0)\n",
    "cv2.destroyAllWindows()"
   ]
  },
  {
   "cell_type": "code",
   "execution_count": null,
   "metadata": {},
   "outputs": [],
   "source": []
  },
  {
   "cell_type": "code",
   "execution_count": null,
   "metadata": {},
   "outputs": [],
   "source": []
  }
 ],
 "metadata": {
  "kernelspec": {
   "display_name": "Python 3",
   "language": "python",
   "name": "python3"
  },
  "language_info": {
   "codemirror_mode": {
    "name": "ipython",
    "version": 3
   },
   "file_extension": ".py",
   "mimetype": "text/x-python",
   "name": "python",
   "nbconvert_exporter": "python",
   "pygments_lexer": "ipython3",
   "version": "3.11.5"
  }
 },
 "nbformat": 4,
 "nbformat_minor": 2
}
