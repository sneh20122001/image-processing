{
 "cells": [
  {
   "cell_type": "code",
   "execution_count": 1,
   "metadata": {},
   "outputs": [],
   "source": [
    "import cv2\n",
    "import numpy as np"
   ]
  },
  {
   "cell_type": "code",
   "execution_count": 3,
   "metadata": {},
   "outputs": [],
   "source": [
    "img = cv2.imread('A01.jfif')\n",
    "img = cv2.resize(img,(500,500))\n",
    "\n",
    "k = np.ones((5,5),np.int8)\n",
    "\n",
    "op = cv2.morphologyEx(img,cv2.MORPH_OPEN,k,iterations=1)\n",
    "\n",
    "cv2.imshow('img',img)\n",
    "cv2.imshow('img1',op)\n",
    "cv2.waitKey(0)\n",
    "cv2.destroyAllWindows()"
   ]
  },
  {
   "cell_type": "code",
   "execution_count": 4,
   "metadata": {},
   "outputs": [],
   "source": [
    "img = cv2.imread('A01.jfif')\n",
    "img = cv2.resize(img,(500,500))\n",
    "\n",
    "k = np.ones((5,5),np.int8)\n",
    "\n",
    "op = cv2.morphologyEx(img,cv2.MORPH_CLOSE,k,iterations=1)\n",
    "\n",
    "cv2.imshow('img',img)\n",
    "cv2.imshow('img1',op)\n",
    "cv2.waitKey(0)\n",
    "cv2.destroyAllWindows()"
   ]
  },
  {
   "cell_type": "code",
   "execution_count": 5,
   "metadata": {},
   "outputs": [],
   "source": [
    "img = cv2.imread('A01.jfif')\n",
    "img = cv2.resize(img,(500,500))\n",
    "\n",
    "k = np.ones((5,5),np.int8)\n",
    "\n",
    "op = cv2.morphologyEx(img,cv2.MORPH_GRADIENT,k,iterations=1)\n",
    "\n",
    "cv2.imshow('img',img)\n",
    "cv2.imshow('img1',op)\n",
    "cv2.waitKey(0)\n",
    "cv2.destroyAllWindows()"
   ]
  },
  {
   "cell_type": "code",
   "execution_count": 6,
   "metadata": {},
   "outputs": [],
   "source": [
    "img = cv2.imread('A01.jfif')\n",
    "img = cv2.resize(img,(500,500))\n",
    "\n",
    "k = np.ones((5,5),np.int8)\n",
    "\n",
    "op = cv2.morphologyEx(img,cv2.MORPH_TOPHAT,k,iterations=1)\n",
    "\n",
    "cv2.imshow('img',img)\n",
    "cv2.imshow('img1',op)\n",
    "cv2.waitKey(0)\n",
    "cv2.destroyAllWindows()"
   ]
  },
  {
   "cell_type": "code",
   "execution_count": 7,
   "metadata": {},
   "outputs": [],
   "source": [
    "img = cv2.imread('A01.jfif')\n",
    "img = cv2.resize(img,(500,500))\n",
    "\n",
    "k = np.ones((5,5),np.int8)\n",
    "\n",
    "op = cv2.morphologyEx(img,cv2.MORPH_BLACKHAT,k,iterations=1)\n",
    "\n",
    "cv2.imshow('img',img)\n",
    "cv2.imshow('img1',op)\n",
    "cv2.waitKey(0)\n",
    "cv2.destroyAllWindows()"
   ]
  }
 ],
 "metadata": {
  "kernelspec": {
   "display_name": "Python 3",
   "language": "python",
   "name": "python3"
  },
  "language_info": {
   "codemirror_mode": {
    "name": "ipython",
    "version": 3
   },
   "file_extension": ".py",
   "mimetype": "text/x-python",
   "name": "python",
   "nbconvert_exporter": "python",
   "pygments_lexer": "ipython3",
   "version": "3.11.5"
  }
 },
 "nbformat": 4,
 "nbformat_minor": 2
}
