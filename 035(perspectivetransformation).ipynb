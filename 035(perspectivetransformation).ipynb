{
 "cells": [
  {
   "cell_type": "code",
   "execution_count": 1,
   "metadata": {},
   "outputs": [],
   "source": [
    "import cv2\n",
    "import numpy as np"
   ]
  },
  {
   "cell_type": "code",
   "execution_count": 5,
   "metadata": {},
   "outputs": [
    {
     "name": "stdout",
     "output_type": "stream",
     "text": [
      "(175, 289, 3)\n"
     ]
    }
   ],
   "source": [
    "img = cv2.imread('A04.jfif')\n",
    "print(img.shape)\n",
    "\n",
    "cv2.circle(img,(77,19),4,(0,0,255),-1)\n",
    "cv2.circle(img,(206,19),4,(0,0,255),-1)\n",
    "cv2.circle(img,(206,120),4,(0,0,255),-1)\n",
    "cv2.circle(img,(77,120),4,(0,0,255),-1)\n",
    "\n",
    "cv2.imshow('img',img)\n",
    "cv2.waitKey(0)\n",
    "cv2.destroyAllWindows()"
   ]
  },
  {
   "cell_type": "code",
   "execution_count": 7,
   "metadata": {},
   "outputs": [],
   "source": [
    "img = cv2.imread('A04.jfif')\n",
    "w,h = (289,175)\n",
    "\n",
    "src1 = np.float32([[77,19],[206,19],[206,120],[77,120]])\n",
    "dst1 = np.float32([[0,0],[w,0],[0,h],[w,h]])\n",
    "m = cv2.getPerspectiveTransform(src1,dst1)\n",
    "new_img = cv2.warpPerspective(img,m,(w,h))\n",
    "\n",
    "\n",
    "cv2.imshow('img1',new_img)\n",
    "cv2.imshow('img',img)\n",
    "cv2.waitKey(0)\n",
    "cv2.destroyAllWindows()"
   ]
  },
  {
   "cell_type": "code",
   "execution_count": null,
   "metadata": {},
   "outputs": [],
   "source": []
  },
  {
   "cell_type": "code",
   "execution_count": null,
   "metadata": {},
   "outputs": [],
   "source": []
  },
  {
   "cell_type": "code",
   "execution_count": null,
   "metadata": {},
   "outputs": [],
   "source": [
    "77,19\n",
    "206,21\n",
    "206,120\n",
    "77,120"
   ]
  },
  {
   "cell_type": "code",
   "execution_count": null,
   "metadata": {},
   "outputs": [],
   "source": []
  },
  {
   "cell_type": "code",
   "execution_count": null,
   "metadata": {},
   "outputs": [],
   "source": []
  },
  {
   "cell_type": "code",
   "execution_count": null,
   "metadata": {},
   "outputs": [],
   "source": []
  },
  {
   "cell_type": "code",
   "execution_count": null,
   "metadata": {},
   "outputs": [],
   "source": []
  }
 ],
 "metadata": {
  "kernelspec": {
   "display_name": "Python 3",
   "language": "python",
   "name": "python3"
  },
  "language_info": {
   "codemirror_mode": {
    "name": "ipython",
    "version": 3
   },
   "file_extension": ".py",
   "mimetype": "text/x-python",
   "name": "python",
   "nbconvert_exporter": "python",
   "pygments_lexer": "ipython3",
   "version": "3.11.5"
  }
 },
 "nbformat": 4,
 "nbformat_minor": 2
}
