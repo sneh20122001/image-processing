{
 "cells": [
  {
   "cell_type": "code",
   "execution_count": 1,
   "metadata": {},
   "outputs": [],
   "source": [
    "import cv2\n",
    "import numpy as np"
   ]
  },
  {
   "cell_type": "code",
   "execution_count": 2,
   "metadata": {},
   "outputs": [],
   "source": [
    "cap = cv2.VideoCapture(1)\n",
    "\n",
    "def wscube(x):\n",
    "    pass\n",
    "\n",
    "cv2.namedWindow('video')\n",
    "cv2.createTrackbar('lb','video',0,255,wscube)\n",
    "cv2.createTrackbar('lg','video',0,255,wscube)\n",
    "cv2.createTrackbar('lr','video',0,255,wscube)\n",
    "\n",
    "cv2.createTrackbar('ub','video',255,255,wscube)\n",
    "cv2.createTrackbar('ug','video',255,255,wscube)\n",
    "cv2.createTrackbar('ur','video',255,255,wscube)\n",
    "\n",
    "while cap.isOpened():\n",
    "    r,frame = cap.read()\n",
    "\n",
    "    if r == True:\n",
    "        img = cv2.resize(frame,(400,300))\n",
    "        hsv_img = cv2.cvtColor(img,cv2.COLOR_BGR2HSV)\n",
    "\n",
    "        Lb = cv2.getTrackbarPos('lb','video')\n",
    "        Lg = cv2.getTrackbarPos('lg','video')\n",
    "        Lr = cv2.getTrackbarPos('lr','video')\n",
    "\n",
    "        Ub = cv2.getTrackbarPos('ub','video')\n",
    "        Ug = cv2.getTrackbarPos('ug','video')\n",
    "        Ur = cv2.getTrackbarPos('ur','video')\n",
    "\n",
    "\n",
    "        lo = np.array([Lb,Lg,Lr])\n",
    "        up = np.array([Ub,Ug,Ur])\n",
    "\n",
    "        masks = cv2.inRange(hsv_img,lo,up)\n",
    "\n",
    "        res = cv2.bitwise_and(img,img,mask=masks)\n",
    "\n",
    "        cv2.imshow('res',res)\n",
    "        cv2.imshow('mask',masks)\n",
    "        cv2.imshow('hsv',hsv_img)\n",
    "        cv2.imshow('wscube',img)\n",
    "\n",
    "        if cv2.waitKey(1) & 0xff == ord('p'):\n",
    "            break\n",
    "    else:\n",
    "        break\n",
    "cap.release()\n",
    "cv2.destroyAllWindows()"
   ]
  },
  {
   "cell_type": "code",
   "execution_count": null,
   "metadata": {},
   "outputs": [],
   "source": []
  },
  {
   "cell_type": "code",
   "execution_count": null,
   "metadata": {},
   "outputs": [],
   "source": []
  },
  {
   "cell_type": "code",
   "execution_count": null,
   "metadata": {},
   "outputs": [],
   "source": []
  },
  {
   "cell_type": "code",
   "execution_count": null,
   "metadata": {},
   "outputs": [],
   "source": []
  },
  {
   "cell_type": "code",
   "execution_count": null,
   "metadata": {},
   "outputs": [],
   "source": []
  },
  {
   "cell_type": "code",
   "execution_count": null,
   "metadata": {},
   "outputs": [],
   "source": []
  },
  {
   "cell_type": "code",
   "execution_count": null,
   "metadata": {},
   "outputs": [],
   "source": []
  },
  {
   "cell_type": "code",
   "execution_count": null,
   "metadata": {},
   "outputs": [],
   "source": []
  },
  {
   "cell_type": "code",
   "execution_count": null,
   "metadata": {},
   "outputs": [],
   "source": []
  }
 ],
 "metadata": {
  "kernelspec": {
   "display_name": "Python 3",
   "language": "python",
   "name": "python3"
  },
  "language_info": {
   "codemirror_mode": {
    "name": "ipython",
    "version": 3
   },
   "file_extension": ".py",
   "mimetype": "text/x-python",
   "name": "python",
   "nbconvert_exporter": "python",
   "pygments_lexer": "ipython3",
   "version": "3.11.5"
  }
 },
 "nbformat": 4,
 "nbformat_minor": 2
}
