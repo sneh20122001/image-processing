{
 "cells": [
  {
   "cell_type": "code",
   "execution_count": 1,
   "id": "f452d701",
   "metadata": {},
   "outputs": [],
   "source": [
    "import cv2"
   ]
  },
  {
   "cell_type": "code",
   "execution_count": 2,
   "id": "25e2ec95",
   "metadata": {},
   "outputs": [
    {
     "name": "stdout",
     "output_type": "stream",
     "text": [
      "[[[222 217 218]\n",
      "  [222 217 218]\n",
      "  [222 217 218]\n",
      "  ...\n",
      "  [223 218 220]\n",
      "  [214 211 213]\n",
      "  [  5   2   4]]\n",
      "\n",
      " [[222 217 218]\n",
      "  [222 217 218]\n",
      "  [222 217 218]\n",
      "  ...\n",
      "  [223 218 220]\n",
      "  [214 211 213]\n",
      "  [  5   2   4]]\n",
      "\n",
      " [[222 217 219]\n",
      "  [222 217 219]\n",
      "  [222 217 219]\n",
      "  ...\n",
      "  [223 218 220]\n",
      "  [214 211 213]\n",
      "  [  5   2   4]]\n",
      "\n",
      " ...\n",
      "\n",
      " [[  8   5   1]\n",
      "  [  8   5   1]\n",
      "  [  8   5   1]\n",
      "  ...\n",
      "  [  4   2   2]\n",
      "  [  4   2   2]\n",
      "  [  3   1   1]]\n",
      "\n",
      " [[  8   5   1]\n",
      "  [  8   5   1]\n",
      "  [  8   5   1]\n",
      "  ...\n",
      "  [  4   2   2]\n",
      "  [  4   2   2]\n",
      "  [  2   0   0]]\n",
      "\n",
      " [[  9   6   2]\n",
      "  [  8   5   1]\n",
      "  [  7   4   0]\n",
      "  ...\n",
      "  [  4   2   2]\n",
      "  [  4   2   2]\n",
      "  [  2   0   0]]]\n"
     ]
    }
   ],
   "source": [
    "#this is for colour image\n",
    "img1 = cv2.imread(\"sneh.jpeg\",1)\n",
    "print(img1)\n",
    "cv2.imshow(\"img1\",img1)\n",
    "cv2.waitKey(3000)\n",
    "cv2.destroyAllWindows()"
   ]
  },
  {
   "cell_type": "code",
   "execution_count": 3,
   "id": "6199f9a8",
   "metadata": {},
   "outputs": [
    {
     "name": "stdout",
     "output_type": "stream",
     "text": [
      "[[218 218 218 ... 219 212   3]\n",
      " [218 218 218 ... 219 212   3]\n",
      " [218 218 218 ... 219 212   3]\n",
      " ...\n",
      " [  4   4   4 ...   2   2   1]\n",
      " [  4   4   4 ...   2   2   0]\n",
      " [  5   4   3 ...   2   2   0]]\n"
     ]
    }
   ],
   "source": [
    "#this is for grey image\n",
    "img2 = cv2.imread(\"sneh.jpeg\",0)\n",
    "print(img2)\n",
    "cv2.imshow(\"img2\",img2)\n",
    "cv2.waitKey()  # for wait image on display\n",
    "cv2.destroyAllWindows() # delete from ide memory "
   ]
  },
  {
   "cell_type": "code",
   "execution_count": 4,
   "id": "b1f4a3df",
   "metadata": {},
   "outputs": [
    {
     "name": "stdout",
     "output_type": "stream",
     "text": [
      "Enter the image path from uploaded file:::sneh.jpeg\n",
      "You enter this :::: sneh.jpeg\n",
      "[[218 218 218 ... 219 212   3]\n",
      " [218 218 218 ... 219 212   3]\n",
      " [218 218 218 ... 219 212   3]\n",
      " ...\n",
      " [  4   4   4 ...   2   2   1]\n",
      " [  4   4   4 ...   2   2   0]\n",
      " [  5   4   3 ...   2   2   0]]\n"
     ]
    }
   ],
   "source": [
    "#project\n",
    "\n",
    "\n",
    "# image input from user and convert into grey scale,also save on local memory \n",
    "\n",
    "\n",
    "\n",
    "img = input(r\"Enter the image path from uploaded file:::\")\n",
    "print(\"You enter this ::::\",img)\n",
    "\n",
    "img11 = cv2.imread(img,0)\n",
    "print(img11)\n",
    "cv2.imshow(\"img11\",img11)\n",
    "\n",
    "store = cv2.waitKey(0)\n",
    "if store == ord(\"s\"):\n",
    "    cv2.imwrite(\"C:\\\\Users\\\\Mukesh\\\\Desktop\\\\image processing\\\\out.jpeg\",img11)\n",
    "else:\n",
    "    cv2.destroyAllWindows()"
   ]
  },
  {
   "cell_type": "code",
   "execution_count": 12,
   "id": "8827ad2d",
   "metadata": {},
   "outputs": [],
   "source": [
    "img = cv2.imread(\"sneh.jpeg\")\n",
    "img=cv2.flip(img,-1)\n",
    "cv2.imshow(\"sneh\",img)\n",
    "cv2.waitKey()  # for wait image on display\n",
    "cv2.destroyAllWindows() # delete from ide memory "
   ]
  },
  {
   "cell_type": "code",
   "execution_count": null,
   "id": "fa417a85",
   "metadata": {},
   "outputs": [],
   "source": []
  }
 ],
 "metadata": {
  "kernelspec": {
   "display_name": "Python 3 (ipykernel)",
   "language": "python",
   "name": "python3"
  },
  "language_info": {
   "codemirror_mode": {
    "name": "ipython",
    "version": 3
   },
   "file_extension": ".py",
   "mimetype": "text/x-python",
   "name": "python",
   "nbconvert_exporter": "python",
   "pygments_lexer": "ipython3",
   "version": "3.11.5"
  }
 },
 "nbformat": 4,
 "nbformat_minor": 5
}
