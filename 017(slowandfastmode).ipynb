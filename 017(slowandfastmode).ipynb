{
 "cells": [
  {
   "cell_type": "code",
   "execution_count": 1,
   "metadata": {},
   "outputs": [],
   "source": [
    "import cv2"
   ]
  },
  {
   "cell_type": "code",
   "execution_count": 6,
   "metadata": {},
   "outputs": [],
   "source": [
    "#normal\n",
    "cap = cv2.VideoCapture('B01.mp4')\n",
    "while cap.isOpened():\n",
    "    rat,frame = cap.read()\n",
    "    frame = cv2.resize(frame,(500,400))\n",
    "    if rat == True:\n",
    "        cv2.imshow('video',frame)\n",
    "        if cv2.waitKey(25) & 0xff == ord('p'):\n",
    "            break\n",
    "    else:\n",
    "        break\n",
    "cap.release()\n",
    "cv2.destroyAllWindows()"
   ]
  },
  {
   "cell_type": "code",
   "execution_count": 5,
   "metadata": {},
   "outputs": [],
   "source": [
    "#fast\n",
    "cap = cv2.VideoCapture('B01.mp4')\n",
    "while cap.isOpened():\n",
    "    rat,frame = cap.read()\n",
    "    frame = cv2.resize(frame,(500,400))\n",
    "    if rat == True:\n",
    "        cv2.imshow('video',frame)\n",
    "        if cv2.waitKey(5) & 0xff == ord('p'):\n",
    "            break\n",
    "    else:\n",
    "        break\n",
    "cap.release()\n",
    "cv2.destroyAllWindows()"
   ]
  },
  {
   "cell_type": "code",
   "execution_count": 7,
   "metadata": {},
   "outputs": [],
   "source": [
    "#slow\n",
    "cap = cv2.VideoCapture('B01.mp4')\n",
    "while cap.isOpened():\n",
    "    rat,frame = cap.read()\n",
    "    frame = cv2.resize(frame,(500,400))\n",
    "    if rat == True:\n",
    "        cv2.imshow('video',frame)\n",
    "        if cv2.waitKey(40) & 0xff == ord('p'):\n",
    "            break\n",
    "    else:\n",
    "        break\n",
    "cap.release()\n",
    "cv2.destroyAllWindows()"
   ]
  },
  {
   "cell_type": "code",
   "execution_count": null,
   "metadata": {},
   "outputs": [],
   "source": []
  },
  {
   "cell_type": "code",
   "execution_count": null,
   "metadata": {},
   "outputs": [],
   "source": []
  },
  {
   "cell_type": "code",
   "execution_count": null,
   "metadata": {},
   "outputs": [],
   "source": []
  },
  {
   "cell_type": "code",
   "execution_count": null,
   "metadata": {},
   "outputs": [],
   "source": []
  },
  {
   "cell_type": "code",
   "execution_count": null,
   "metadata": {},
   "outputs": [],
   "source": []
  },
  {
   "cell_type": "code",
   "execution_count": null,
   "metadata": {},
   "outputs": [],
   "source": []
  }
 ],
 "metadata": {
  "kernelspec": {
   "display_name": "Python 3",
   "language": "python",
   "name": "python3"
  },
  "language_info": {
   "codemirror_mode": {
    "name": "ipython",
    "version": 3
   },
   "file_extension": ".py",
   "mimetype": "text/x-python",
   "name": "python",
   "nbconvert_exporter": "python",
   "pygments_lexer": "ipython3",
   "version": "3.11.5"
  }
 },
 "nbformat": 4,
 "nbformat_minor": 2
}
