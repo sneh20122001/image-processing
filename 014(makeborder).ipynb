{
 "cells": [
  {
   "cell_type": "code",
   "execution_count": 2,
   "metadata": {},
   "outputs": [],
   "source": [
    "import cv2\n",
    "import numpy as np"
   ]
  },
  {
   "cell_type": "code",
   "execution_count": 6,
   "metadata": {},
   "outputs": [],
   "source": [
    "img = cv2.imread('3.jfif')\n",
    "img = cv2.resize(img,(300,300))\n",
    "\n",
    "img1 = cv2.copyMakeBorder(img,20,20,20,20,cv2.BORDER_CONSTANT,None,2)\n",
    "img1 = cv2.resize(img1,(300,300))\n",
    "\n",
    "h = np.hstack((img,img1))\n",
    "\n",
    "cv2.imshow('img',h)\n",
    "cv2.waitKey(0)\n",
    "cv2.destroyAllWindows()\n"
   ]
  },
  {
   "cell_type": "code",
   "execution_count": 7,
   "metadata": {},
   "outputs": [],
   "source": [
    "img = cv2.imread('3.jfif')\n",
    "img = cv2.resize(img,(300,300))\n",
    "\n",
    "img1 = cv2.copyMakeBorder(img,20,20,20,20,cv2.BORDER_DEFAULT,None,2)\n",
    "img1 = cv2.resize(img1,(300,300))\n",
    "\n",
    "h = np.hstack((img,img1))\n",
    "\n",
    "cv2.imshow('img',h)\n",
    "cv2.waitKey(0)\n",
    "cv2.destroyAllWindows()\n"
   ]
  },
  {
   "cell_type": "code",
   "execution_count": 11,
   "metadata": {},
   "outputs": [],
   "source": [
    "img = cv2.imread('3.jfif')\n",
    "img = cv2.resize(img,(300,300))\n",
    "\n",
    "img1 = cv2.copyMakeBorder(img,20,20,20,20,cv2.BORDER_ISOLATED)\n",
    "img1 = cv2.resize(img1,(300,300))\n",
    "\n",
    "h = np.hstack((img,img1))\n",
    "\n",
    "cv2.imshow('img',h)\n",
    "cv2.waitKey(0)\n",
    "cv2.destroyAllWindows()\n"
   ]
  },
  {
   "cell_type": "code",
   "execution_count": null,
   "metadata": {},
   "outputs": [],
   "source": []
  },
  {
   "cell_type": "code",
   "execution_count": null,
   "metadata": {},
   "outputs": [],
   "source": []
  }
 ],
 "metadata": {
  "kernelspec": {
   "display_name": "Python 3",
   "language": "python",
   "name": "python3"
  },
  "language_info": {
   "codemirror_mode": {
    "name": "ipython",
    "version": 3
   },
   "file_extension": ".py",
   "mimetype": "text/x-python",
   "name": "python",
   "nbconvert_exporter": "python",
   "pygments_lexer": "ipython3",
   "version": "3.11.5"
  }
 },
 "nbformat": 4,
 "nbformat_minor": 2
}
