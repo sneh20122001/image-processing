{
 "cells": [
  {
   "cell_type": "code",
   "execution_count": 1,
   "metadata": {},
   "outputs": [],
   "source": [
    "import cv2\n",
    "import numpy as np"
   ]
  },
  {
   "cell_type": "code",
   "execution_count": 7,
   "metadata": {},
   "outputs": [],
   "source": [
    "img = cv2.imread('D05.jpg')\n",
    "img = cv2.resize(img,(400,250))\n",
    "gr = cv2.cvtColor(img,cv2.COLOR_BGR2GRAY)\n",
    "\n",
    "gr = np.float32(gr)\n",
    "res = cv2.cornerHarris(gr,2,3,0.04)\n",
    "\n",
    "res = cv2.dilate(res,None)\n",
    "img[res> 0.01 * res.max()] = [0,0,255]\n",
    "\n",
    "cv2.imshow('img',img)\n",
    "cv2.waitKey(0)\n",
    "cv2.destroyAllWindows()"
   ]
  },
  {
   "cell_type": "code",
   "execution_count": 9,
   "metadata": {},
   "outputs": [],
   "source": [
    "img = cv2.imread('B03.jpg')\n",
    "img = cv2.resize(img,(400,250))\n",
    "gr = cv2.cvtColor(img,cv2.COLOR_BGR2GRAY)\n",
    "\n",
    "gr = np.float32(gr)\n",
    "res = cv2.cornerHarris(gr,2,3,0.04)\n",
    "\n",
    "res = cv2.dilate(res,None)\n",
    "img[res> 0.01 * res.max()] = [0,0,255]\n",
    "\n",
    "cv2.imshow('img',img)\n",
    "cv2.waitKey(0)\n",
    "cv2.destroyAllWindows()"
   ]
  },
  {
   "cell_type": "code",
   "execution_count": null,
   "metadata": {},
   "outputs": [],
   "source": []
  },
  {
   "cell_type": "code",
   "execution_count": null,
   "metadata": {},
   "outputs": [],
   "source": []
  },
  {
   "cell_type": "code",
   "execution_count": null,
   "metadata": {},
   "outputs": [],
   "source": []
  }
 ],
 "metadata": {
  "kernelspec": {
   "display_name": "Python 3",
   "language": "python",
   "name": "python3"
  },
  "language_info": {
   "codemirror_mode": {
    "name": "ipython",
    "version": 3
   },
   "file_extension": ".py",
   "mimetype": "text/x-python",
   "name": "python",
   "nbconvert_exporter": "python",
   "pygments_lexer": "ipython3",
   "version": "3.11.5"
  }
 },
 "nbformat": 4,
 "nbformat_minor": 2
}
