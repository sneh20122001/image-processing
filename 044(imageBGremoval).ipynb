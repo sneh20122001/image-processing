{
 "cells": [
  {
   "cell_type": "code",
   "execution_count": 1,
   "metadata": {},
   "outputs": [],
   "source": [
    "import cv2"
   ]
  },
  {
   "cell_type": "code",
   "execution_count": 16,
   "metadata": {},
   "outputs": [],
   "source": [
    "img = cv2.imread('C03.jpg')\n",
    "img = cv2.resize(img,(600,500))\n",
    "hsv = cv2.cvtColor(img,cv2.COLOR_BGR2HSV)\n",
    "\n",
    "img1 = cv2.imread('Capture.jpg')\n",
    "hsv2 = cv2.cvtColor(img,cv2.COLOR_BGR2HSV)\n",
    "\n",
    "hist = cv2.calcHist([hsv2],[0,1],None,[180,256],[0,180,0,256])\n",
    "mask = cv2.calcBackProject([hsv],[0,1],hist,[0,180,0,256],1)\n",
    "\n",
    "ker = cv2.getStructuringElement(cv2.MORPH_ELLIPSE,(5,5))\n",
    "mask = cv2.filter2D(mask,-1,ker)\n",
    "\n",
    "_, thr = cv2.threshold(mask,250,255,cv2.THRESH_BINARY)\n",
    "mask = cv2.merge((mask,mask,mask))\n",
    "\n",
    "res = cv2.bitwise_or(img,mask)\n",
    "\n",
    "cv2.imshow('pt',res)\n",
    "cv2.imshow('img',img)\n",
    "cv2.waitKey(0)\n",
    "cv2.destroyAllWindows()"
   ]
  },
  {
   "cell_type": "code",
   "execution_count": null,
   "metadata": {},
   "outputs": [],
   "source": []
  },
  {
   "cell_type": "code",
   "execution_count": null,
   "metadata": {},
   "outputs": [],
   "source": []
  },
  {
   "cell_type": "code",
   "execution_count": null,
   "metadata": {},
   "outputs": [],
   "source": []
  },
  {
   "cell_type": "code",
   "execution_count": null,
   "metadata": {},
   "outputs": [],
   "source": []
  },
  {
   "cell_type": "code",
   "execution_count": null,
   "metadata": {},
   "outputs": [],
   "source": []
  },
  {
   "cell_type": "code",
   "execution_count": null,
   "metadata": {},
   "outputs": [],
   "source": []
  },
  {
   "cell_type": "code",
   "execution_count": null,
   "metadata": {},
   "outputs": [],
   "source": []
  },
  {
   "cell_type": "code",
   "execution_count": null,
   "metadata": {},
   "outputs": [],
   "source": []
  }
 ],
 "metadata": {
  "kernelspec": {
   "display_name": "Python 3",
   "language": "python",
   "name": "python3"
  },
  "language_info": {
   "codemirror_mode": {
    "name": "ipython",
    "version": 3
   },
   "file_extension": ".py",
   "mimetype": "text/x-python",
   "name": "python",
   "nbconvert_exporter": "python",
   "pygments_lexer": "ipython3",
   "version": "3.11.5"
  }
 },
 "nbformat": 4,
 "nbformat_minor": 2
}
