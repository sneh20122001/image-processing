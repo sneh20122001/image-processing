{
 "cells": [
  {
   "cell_type": "code",
   "execution_count": 1,
   "metadata": {},
   "outputs": [],
   "source": [
    "import cv2\n",
    "import numpy as np"
   ]
  },
  {
   "cell_type": "code",
   "execution_count": 30,
   "metadata": {},
   "outputs": [],
   "source": [
    "cap = cv2.VideoCapture('D07.mp4')\n",
    "r,f = cap.read()\n",
    "x,y,w,h = (393, 166, 800, 867)\n",
    "t = (x,y,w,h)\n",
    "roi = f[y:y+h,x:x+w]\n",
    "hsv_roi = cv2.cvtColor(roi,cv2.COLOR_BGR2HSV)\n",
    "mask = cv2.inRange(hsv_roi,np.array((0.0,60.0,32.0)),np.array((180.0,255.0,255.0)))\n",
    "roi_hist = cv2.calcHist([hsv_roi],[0],mask,[180],[0,180])\n",
    "cv2.normalize(roi_hist,roi_hist,0,255,cv2.NORM_MINMAX)\n",
    "\n",
    "\n",
    "tr = (cv2.TERM_CRITERIA_EPS | cv2.TERM_CRITERIA_COUNT, 10,1)\n",
    "\n",
    "\n",
    " \n",
    "while cap.isOpened():\n",
    "    r,f = cap.read()\n",
    "    if r == True:\n",
    "        hsv_f = cv2.cvtColor(f,cv2.COLOR_BGR2HSV)\n",
    "        d = cv2.calcBackProject([hsv_f],[0],roi_hist,[0,180],1)\n",
    "        r,tp = cv2.meanShift(d,t,tr)\n",
    "        x,y,w,h = tp\n",
    "        final = cv2.rectangle(f,(x,y),(x+w,y+h),(0,0,255),2)\n",
    "        cv2.imshow('video',final)\n",
    "        if cv2.waitKey(25) & 0xff == ord('p'):\n",
    "            break\n",
    "    else:\n",
    "        break\n",
    "\n",
    "\n",
    "\n",
    "cap.release()\n",
    "cv2.destroyAllWindows()"
   ]
  },
  {
   "cell_type": "code",
   "execution_count": 31,
   "metadata": {},
   "outputs": [],
   "source": [
    "cap = cv2.VideoCapture('D07.mp4')\n",
    "r,f = cap.read()\n",
    "x,y,w,h = (393, 166, 800, 867)\n",
    "t = (x,y,w,h)\n",
    "roi = f[y:y+h,x:x+w]\n",
    "hsv_roi = cv2.cvtColor(roi,cv2.COLOR_BGR2HSV)\n",
    "mask = cv2.inRange(hsv_roi,np.array((0.0,60.0,32.0)),np.array((180.0,255.0,255.0)))\n",
    "roi_hist = cv2.calcHist([hsv_roi],[0],mask,[180],[0,180])\n",
    "cv2.normalize(roi_hist,roi_hist,0,255,cv2.NORM_MINMAX)\n",
    "\n",
    "\n",
    "tr = (cv2.TERM_CRITERIA_EPS | cv2.TERM_CRITERIA_COUNT, 10,1)\n",
    "\n",
    "\n",
    " \n",
    "while cap.isOpened():\n",
    "    r,f = cap.read()\n",
    "    if r == True:\n",
    "        hsv_f = cv2.cvtColor(f,cv2.COLOR_BGR2HSV)\n",
    "        d = cv2.calcBackProject([hsv_f],[0],roi_hist,[0,180],1)\n",
    "        r,tp = cv2.CamShift(d,t,tr)\n",
    "        x,y,w,h = tp\n",
    "        final = cv2.rectangle(f,(x,y),(x+w,y+h),(0,0,255),2)\n",
    "        cv2.imshow('video',final)\n",
    "        if cv2.waitKey(25) & 0xff == ord('p'):\n",
    "            break\n",
    "    else:\n",
    "        break\n",
    "\n",
    "\n",
    "\n",
    "cap.release()\n",
    "cv2.destroyAllWindows()"
   ]
  },
  {
   "cell_type": "code",
   "execution_count": 16,
   "metadata": {},
   "outputs": [
    {
     "data": {
      "text/plain": [
       "(393, 166, 713, 867)"
      ]
     },
     "execution_count": 16,
     "metadata": {},
     "output_type": "execute_result"
    }
   ],
   "source": []
  },
  {
   "cell_type": "code",
   "execution_count": null,
   "metadata": {},
   "outputs": [],
   "source": []
  },
  {
   "cell_type": "code",
   "execution_count": null,
   "metadata": {},
   "outputs": [],
   "source": []
  },
  {
   "cell_type": "code",
   "execution_count": null,
   "metadata": {},
   "outputs": [],
   "source": []
  },
  {
   "cell_type": "code",
   "execution_count": null,
   "metadata": {},
   "outputs": [],
   "source": []
  },
  {
   "cell_type": "code",
   "execution_count": null,
   "metadata": {},
   "outputs": [],
   "source": []
  },
  {
   "cell_type": "code",
   "execution_count": null,
   "metadata": {},
   "outputs": [],
   "source": []
  },
  {
   "cell_type": "code",
   "execution_count": null,
   "metadata": {},
   "outputs": [],
   "source": []
  },
  {
   "cell_type": "code",
   "execution_count": null,
   "metadata": {},
   "outputs": [],
   "source": []
  },
  {
   "cell_type": "code",
   "execution_count": null,
   "metadata": {},
   "outputs": [],
   "source": []
  },
  {
   "cell_type": "code",
   "execution_count": null,
   "metadata": {},
   "outputs": [],
   "source": []
  },
  {
   "cell_type": "code",
   "execution_count": null,
   "metadata": {},
   "outputs": [],
   "source": []
  }
 ],
 "metadata": {
  "kernelspec": {
   "display_name": "Python 3",
   "language": "python",
   "name": "python3"
  },
  "language_info": {
   "codemirror_mode": {
    "name": "ipython",
    "version": 3
   },
   "file_extension": ".py",
   "mimetype": "text/x-python",
   "name": "python",
   "nbconvert_exporter": "python",
   "pygments_lexer": "ipython3",
   "version": "3.11.5"
  }
 },
 "nbformat": 4,
 "nbformat_minor": 2
}
