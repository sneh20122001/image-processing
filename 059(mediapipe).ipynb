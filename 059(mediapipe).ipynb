{
 "cells": [
  {
   "cell_type": "code",
   "execution_count": 13,
   "metadata": {},
   "outputs": [],
   "source": [
    "import cv2\n",
    "import numpy as np\n",
    "import mediapipe as mp "
   ]
  },
  {
   "cell_type": "code",
   "execution_count": 25,
   "metadata": {},
   "outputs": [],
   "source": [
    "mp_face_det = mp.solutions.face_detection\n",
    "mp_draw = mp.solutions.drawing_utils"
   ]
  },
  {
   "cell_type": "code",
   "execution_count": 23,
   "metadata": {},
   "outputs": [],
   "source": [
    "face_dect = mp_face_det.FaceDetection(min_detection_confidence=1,model_selection=0)\n",
    "\n",
    "cap = cv2.VideoCapture(0)\n",
    "\n",
    "\n",
    "while cap.isOpened():\n",
    "    r,frame = cap.read()\n",
    "    if not r:\n",
    "        break\n",
    "\n",
    "    frame = cv2.flip(frame, 1)\n",
    "    frame_rgb = cv2.cvtColor(frame, cv2.COLOR_BGR2RGB)\n",
    "\n",
    "    result = face_dect.process(frame_rgb)\n",
    "\n",
    "\n",
    "\n",
    "    if result.detections:\n",
    "        for detection in result.detections:\n",
    "            mp_draw.draw_detection(frame, detection)\n",
    "\n",
    "    frame = cv2.cvtColor(frame, cv2.COLOR_RGB2BGR)  \n",
    "    cv2.imshow('img', frame)\n",
    "\n",
    "    if cv2.waitKey(25) & 0xff == ord('q'):\n",
    "        break\n",
    "    \n",
    "\n",
    "\n",
    "\n",
    "cap.release()\n",
    "cv2.destroyAllWindows()"
   ]
  }
 ],
 "metadata": {
  "kernelspec": {
   "display_name": "Python 3",
   "language": "python",
   "name": "python3"
  },
  "language_info": {
   "codemirror_mode": {
    "name": "ipython",
    "version": 3
   },
   "file_extension": ".py",
   "mimetype": "text/x-python",
   "name": "python",
   "nbconvert_exporter": "python",
   "pygments_lexer": "ipython3",
   "version": "3.11.5"
  }
 },
 "nbformat": 4,
 "nbformat_minor": 2
}
